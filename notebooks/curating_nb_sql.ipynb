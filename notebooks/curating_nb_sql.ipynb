{
 "cells": [
  {
   "cell_type": "code",
   "execution_count": 14,
   "metadata": {},
   "outputs": [],
   "source": [
    "import pandas as pd\n",
    "import geopandas as gpd\n",
    "from pyspark.sql import SparkSession, functions as F\n",
    "import matplotlib.pyplot as plt\n",
    "import pyspark\n",
    "import numpy as np\n",
    "from matplotlib.ticker import FixedLocator"
   ]
  },
  {
   "cell_type": "code",
   "execution_count": 15,
   "metadata": {},
   "outputs": [],
   "source": [
    "# Create a spark session (which will run spark jobs)\n",
    "spark = (\n",
    "    SparkSession.builder.appName(\"curating parquets using sql\")\n",
    "    .config(\"spark.sql.repl.eagerEval.enabled\", True)\n",
    "    .config(\"spark.sql.parquet.cacheMetadata\", \"true\")\n",
    "    .config(\"spark.sql.session.timeZone\", \"Etc/UTC\")\n",
    "    .config('spark.driver.memory', '4g')\n",
    "    .config('spark.executor.memory', '2g')\n",
    "    .getOrCreate()\n",
    ")"
   ]
  },
  {
   "cell_type": "code",
   "execution_count": 16,
   "metadata": {},
   "outputs": [],
   "source": [
    "# Reading in the data \n",
    "sdf = spark.read.parquet(\"../data/raw/yellow_data/*\")\n",
    "sdf = sdf.withColumn(\"hourly_time\", F.date_trunc(\"hour\", F.col(\"tpep_pickup_datetime\")))\n",
    "weather_sdf = spark.read.option(\"header\", True).csv(\"../data/curated/weather.csv\")\n",
    "\n",
    "\n",
    "# Creating a temporary sql view\n",
    "sdf.createOrReplaceTempView('taxi')\n",
    "weather_sdf.createOrReplaceTempView('weather')"
   ]
  },
  {
   "cell_type": "markdown",
   "metadata": {},
   "source": [
    "### Creating Parquet for Hourly Demand of Taxi Cabs based on weekday"
   ]
  },
  {
   "cell_type": "code",
   "execution_count": 17,
   "metadata": {},
   "outputs": [
    {
     "name": "stderr",
     "output_type": "stream",
     "text": [
      "                                                                                \r"
     ]
    }
   ],
   "source": [
    "hourly_demand_wd = spark.sql(\"\"\"\n",
    "SELECT \n",
    "    HOUR(tpep_pickup_datetime) as hour,\n",
    "    WEEKDAY(CAST(tpep_pickup_datetime AS DATE)) as wd,\n",
    "    COUNT(*) as demand\n",
    "FROM \n",
    "    taxi\n",
    "GROUP BY \n",
    "    WEEKDAY(CAST(tpep_pickup_datetime AS DATE)),\n",
    "    HOUR(tpep_pickup_datetime)\n",
    "ORDER BY\n",
    "    WEEKDAY(CAST(tpep_pickup_datetime AS DATE)),\n",
    "    HOUR(tpep_pickup_datetime)             \n",
    "\"\"\")\n",
    "                             \n",
    "hourly_demand_wd \\\n",
    "    .coalesce(1) \\\n",
    "    .write \\\n",
    "    .mode('overwrite') \\\n",
    "    .parquet('../data/curated/hourly_demand_wd')"
   ]
  },
  {
   "cell_type": "markdown",
   "metadata": {},
   "source": [
    "### Creating Parquet for Total Demand based on different Zones"
   ]
  },
  {
   "cell_type": "code",
   "execution_count": 18,
   "metadata": {},
   "outputs": [
    {
     "name": "stderr",
     "output_type": "stream",
     "text": [
      "                                                                                \r"
     ]
    }
   ],
   "source": [
    "location_demand = spark.sql(\"\"\"\n",
    "SELECT \n",
    "    COUNT(*) as demand,\n",
    "    pulocationid\n",
    "FROM \n",
    "    taxi\n",
    "GROUP BY \n",
    "    pulocationid\n",
    "\"\"\")\n",
    "\n",
    "location_demand \\\n",
    "    .coalesce(1) \\\n",
    "    .write \\\n",
    "    .mode('overwrite') \\\n",
    "    .parquet('../data/curated/location_demand')"
   ]
  },
  {
   "cell_type": "markdown",
   "metadata": {},
   "source": [
    "### Creating parquet which combines all the trip data with the hourly weather data"
   ]
  },
  {
   "cell_type": "code",
   "execution_count": 19,
   "metadata": {},
   "outputs": [],
   "source": [
    "combined = spark.sql(\"\"\"\n",
    "SELECT \n",
    "    *\n",
    "FROM \n",
    "    taxi t\n",
    "LEFT JOIN\n",
    "    weather w\n",
    "ON \n",
    "    t.hourly_time = w.time   \n",
    "ORDER BY     \n",
    "    t.tpep_pickup_datetime       \n",
    "\"\"\")"
   ]
  },
  {
   "cell_type": "markdown",
   "metadata": {},
   "source": [
    "### Creating Parquet for Hourly demand for combined"
   ]
  },
  {
   "cell_type": "code",
   "execution_count": 21,
   "metadata": {},
   "outputs": [
    {
     "name": "stderr",
     "output_type": "stream",
     "text": [
      "23/08/19 22:28:41 WARN RowBasedKeyValueBatch: Calling spill() on RowBasedKeyValueBatch. Will not spill but return 0.\n",
      "23/08/19 22:28:41 WARN RowBasedKeyValueBatch: Calling spill() on RowBasedKeyValueBatch. Will not spill but return 0.\n",
      "23/08/19 22:28:41 WARN RowBasedKeyValueBatch: Calling spill() on RowBasedKeyValueBatch. Will not spill but return 0.\n",
      "23/08/19 22:28:41 WARN RowBasedKeyValueBatch: Calling spill() on RowBasedKeyValueBatch. Will not spill but return 0.\n",
      "23/08/19 22:28:41 WARN RowBasedKeyValueBatch: Calling spill() on RowBasedKeyValueBatch. Will not spill but return 0.\n",
      "23/08/19 22:28:41 WARN RowBasedKeyValueBatch: Calling spill() on RowBasedKeyValueBatch. Will not spill but return 0.\n",
      "23/08/19 22:28:41 WARN RowBasedKeyValueBatch: Calling spill() on RowBasedKeyValueBatch. Will not spill but return 0.\n",
      "23/08/19 22:28:41 WARN RowBasedKeyValueBatch: Calling spill() on RowBasedKeyValueBatch. Will not spill but return 0.\n",
      "23/08/19 22:28:45 WARN RowBasedKeyValueBatch: Calling spill() on RowBasedKeyValueBatch. Will not spill but return 0.\n",
      "23/08/19 22:28:45 WARN RowBasedKeyValueBatch: Calling spill() on RowBasedKeyValueBatch. Will not spill but return 0.\n",
      "23/08/19 22:28:45 WARN RowBasedKeyValueBatch: Calling spill() on RowBasedKeyValueBatch. Will not spill but return 0.\n",
      "23/08/19 22:28:45 WARN RowBasedKeyValueBatch: Calling spill() on RowBasedKeyValueBatch. Will not spill but return 0.\n",
      "23/08/19 22:28:45 WARN RowBasedKeyValueBatch: Calling spill() on RowBasedKeyValueBatch. Will not spill but return 0.\n",
      "23/08/19 22:28:45 WARN RowBasedKeyValueBatch: Calling spill() on RowBasedKeyValueBatch. Will not spill but return 0.\n",
      "23/08/19 22:28:46 WARN RowBasedKeyValueBatch: Calling spill() on RowBasedKeyValueBatch. Will not spill but return 0.\n",
      "23/08/19 22:28:48 WARN RowBasedKeyValueBatch: Calling spill() on RowBasedKeyValueBatch. Will not spill but return 0.\n",
      "                                                                                \r"
     ]
    }
   ],
   "source": [
    "combined.createOrReplaceTempView('combined')\n",
    "hour_all = spark.sql(\"\"\"\n",
    "SELECT \n",
    "    COUNT(*) as demand,\n",
    "    AVG(rainmm) as rain,\n",
    "    AVG(windspeed10mkmh) as wind,\n",
    "    AVG(cloudcover) as cloud,   \n",
    "    AVG(temperature2mC) as temp,                    \n",
    "    hourly_time as date_time,\n",
    "    pulocationid\n",
    "FROM\n",
    "    combined\n",
    "GROUP BY \n",
    "    pulocationid,\n",
    "    hourly_time\n",
    "\"\"\")\n",
    "                      \n",
    "hour_all \\\n",
    "    .coalesce(1) \\\n",
    "    .write \\\n",
    "    .mode('overwrite') \\\n",
    "    .parquet('../data/curated/hour_all')"
   ]
  }
 ],
 "metadata": {
  "kernelspec": {
   "display_name": "Python 3",
   "language": "python",
   "name": "python3"
  },
  "language_info": {
   "codemirror_mode": {
    "name": "ipython",
    "version": 3
   },
   "file_extension": ".py",
   "mimetype": "text/x-python",
   "name": "python",
   "nbconvert_exporter": "python",
   "pygments_lexer": "ipython3",
   "version": "3.8.10"
  },
  "orig_nbformat": 4
 },
 "nbformat": 4,
 "nbformat_minor": 2
}
